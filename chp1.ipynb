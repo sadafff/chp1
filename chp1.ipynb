{
 "cells": [
  {
   "cell_type": "code",
   "execution_count": null,
   "metadata": {},
   "outputs": [],
   "source": []
  },
  {
   "cell_type": "code",
   "execution_count": 230,
   "metadata": {},
   "outputs": [
    {
     "name": "stdout",
     "output_type": "stream",
     "text": [
      "Hello World\n"
     ]
    }
   ],
   "source": [
    "V=\"Hello World\"\n",
    "print(V)"
   ]
  },
  {
   "cell_type": "code",
   "execution_count": 231,
   "metadata": {},
   "outputs": [
    {
     "name": "stdout",
     "output_type": "stream",
     "text": [
      "I live in Multan\n",
      "I live in Multan\n"
     ]
    }
   ],
   "source": [
    "msg=('I live in Multan')\n",
    "print(msg)\n",
    "Msg=('I like Python')\n",
    "print(msg)"
   ]
  },
  {
   "cell_type": "code",
   "execution_count": 232,
   "metadata": {},
   "outputs": [
    {
     "name": "stdout",
     "output_type": "stream",
     "text": [
      "HiSadaf;are you complete your work?\n"
     ]
    }
   ],
   "source": [
    "name='Sadaf'\n",
    "print('Hi'+name+';'+'are you complete your work?')"
   ]
  },
  {
   "cell_type": "code",
   "execution_count": 233,
   "metadata": {},
   "outputs": [
    {
     "name": "stdout",
     "output_type": "stream",
     "text": [
      "sadaf faheem\n",
      "SADAF FAHEEM\n",
      "Sadaf Faheem\n"
     ]
    }
   ],
   "source": [
    "name='sadaf Faheem'\n",
    "print(name.lower())\n",
    "print(name.upper())\n",
    "print(name.title())"
   ]
  },
  {
   "cell_type": "markdown",
   "metadata": {},
   "source": []
  },
  {
   "cell_type": "code",
   "execution_count": 234,
   "metadata": {},
   "outputs": [
    {
     "name": "stdout",
     "output_type": "stream",
     "text": [
      "Albert Einstein;Life is like riding a bicycle. to keep your blance,you must keep moving\n"
     ]
    }
   ],
   "source": [
    "msg='Life is like riding a bicycle. to keep your blance,you must keep moving'\n",
    "name='Albert Einstein'\n",
    "print(name+';'+msg)"
   ]
  },
  {
   "cell_type": "code",
   "execution_count": 235,
   "metadata": {},
   "outputs": [
    {
     "name": "stdout",
     "output_type": "stream",
     "text": [
      "Albert Einstein:Life is like riding a bicycle. to keep your blance,you must keep moving\n"
     ]
    }
   ],
   "source": [
    "msg='Life is like riding a bicycle. to keep your blance,you must keep moving'\n",
    "famous='Albert Einstein'\n",
    "print(famous+\":\"+msg)"
   ]
  },
  {
   "cell_type": "code",
   "execution_count": 236,
   "metadata": {},
   "outputs": [
    {
     "name": "stdout",
     "output_type": "stream",
     "text": [
      "Sadaf\n",
      "Sadaf\n"
     ]
    }
   ],
   "source": [
    "msg= '   Sadaf'\n",
    "print(msg.lstrip())\n",
    "msg=\"Sadaf    \"\n",
    "print(msg.rstrip())"
   ]
  },
  {
   "cell_type": "code",
   "execution_count": 237,
   "metadata": {},
   "outputs": [
    {
     "name": "stdout",
     "output_type": "stream",
     "text": [
      "8\n",
      "8\n",
      "8\n",
      "8.0\n"
     ]
    }
   ],
   "source": [
    "print(6+2)\n",
    "print(12-4)\n",
    "print(4*2)\n",
    "print(8/1)"
   ]
  }
 ],
 "metadata": {
  "interpreter": {
   "hash": "184a448cc91260543057b3b416c546692188212a2e4fcd58a822be62cbfabf61"
  },
  "kernelspec": {
   "display_name": "Python 3.10.4 64-bit",
   "language": "python",
   "name": "python3"
  },
  "language_info": {
   "codemirror_mode": {
    "name": "ipython",
    "version": 3
   },
   "file_extension": ".py",
   "mimetype": "text/x-python",
   "name": "python",
   "nbconvert_exporter": "python",
   "pygments_lexer": "ipython3",
   "version": "3.10.4"
  },
  "orig_nbformat": 4
 },
 "nbformat": 4,
 "nbformat_minor": 2
}
